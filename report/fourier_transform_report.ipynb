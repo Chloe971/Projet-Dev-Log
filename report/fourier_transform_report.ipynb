import numpy as np 
import matplotlib.pyplot as plt
from PIL import Image
from numpy import interp
from math import tau
from scipy.integrate import quad
import requests
from io import BytesIO

class ImageReader:
    """ Read the url that contains an image in JPG, JPEG or PNG format then converting into coordinates.
    """
    def __init__(self, url):
        """Constructor
        Read the image and convert to gray scale
        Threshold the gray image to get pure black and white image
        :param url: link that points to the image
        :type x_table: url
        """
        self.url = url
        response = requests.get(url)
        self.img = Image.open(BytesIO(response.content))
        self.im = self.img.convert("L")
        
    
    def get_tour(self, level= [200]):
        """
        Find the contour of image
        Split the points and store in x_table and y_table
        Centering the points to origin: (0,0)
        Make a time table from 0 to 2PI
        :param x_table: coordinate of the X axis
        :type x_table: float
        :param y_table: coordinate on the Y axis
        :type y_table: float
        :param time_table: time list from 0 to 2PI
        :type time_table: float
        """

        contour_plot = plt.contour(self.im,levels = level,origin='image')
        contour_path = contour_plot.collections[0].get_paths()[0]
        x_table, y_table = contour_path.vertices[:,0], contour_path.vertices[:,1]

        #Center X and Y
        x_table = x_table - min(x_table)
        y_table = y_table - min(y_table)
        x_table = x_table - max(x_table)/2
        y_table = y_table - max(y_table)/2

        #Visualize
        plt.plot(x_table, y_table)
        #For the period of time 0-2*pi
        time_table = np.linspace(0,tau,len(x_table))

        self.x_table = x_table
        self.y_table = y_table
        self.time_table = time_table
        
        return self.time_table, self.x_table, self.y_table

import matplotlib.pyplot as plt
import numpy as np
from math import tau
from scipy.integrate import quad
from numpy import interp

def f(t, time_table, x_table, y_table):
            #Convert the X and Y coords to complex number over time
            X = np.interp(t, time_table, x_table) 
            Y = 1j*np.interp(t, time_table, y_table)
            return X + Y

class Fourier : 

    def __init__(self, time_table, x_table, y_table, order) :
        self.order = order
        self.time_table = time_table
        self.x_table = x_table
        self.y_table = y_table

    def coef_list(self,time_table, x_table, y_table, order) :
        coef_list = []
            
        for n in range(-order, order+1):
        #integrate across f .
            real_coef = quad(lambda t: np.real(f(t, time_table, x_table, y_table) * np.exp(-n*1j*t)), 0, tau, limit=100, full_output=1)[0]/tau
            imag_coef = quad(lambda t: np.imag(f(t, time_table, x_table, y_table) * np.exp(-n*1j*t)), 0, tau, limit=100, full_output=1)[0]/tau
            coef_list.append([real_coef, imag_coef])

        return np.array(coef_list)


    def DFT(self, t, coef_list, order):
    #Compute the discrete fourier series with a given order
        kernel = np.array([np.exp(-n*1j*t) for n in range(-order, order+1)])
        series = np.sum( (coef_list[:,0]+1j*coef_list[:,1]) * kernel[:])

        return np.real(series), np.imag(series)

import numpy as np
import matplotlib.pyplot as plt
from matplotlib import cm, animation
from matplotlib.patches import ConnectionPatch
from math import tau
import cmath

class DrawAnimation:
    """Creates an animation that draws a curve representing an image using Fourier coefficients.
    
    :param x_DFT: Real part of the Fourier transform.
    :type x_DFT: list.
    :param y_DFT: Imaginary part of the Fourier transform.
    :type y_DFT: list.
    :param coef: Fourier coefficients.
    :type coef: ndarray.
    :param order: Variable that we use to determine the number of Fourier coefficients that we will generate.
    :type order: int.
    :param space: Variable used to give the number of images for the animation
    :type space: tuple.
    :param fig_lim: Define the limit of the x and y axes of our plot.
    :type fig_lim: list.
    """
    def __init__(self, x_DFT, y_DFT, coef, order, space, fig_lim):
        """
            Construction method
        """
        self.x_DFT = x_DFT
        self.y_DFT = y_DFT
        self.coef = coef 
        self.order = order
        self.space = space
        self.fig_lim = fig_lim
        
    def visualize(self, x_DFT, y_DFT, coef, order, space, fig_lim):
        """
            Creates the drawing of the image and spinning circles animation.
        """
        fig, ax = plt.subplots()
        lim = max(fig_lim)
        ax.set_xlim([-lim, lim])
        ax.set_ylim([-lim, lim])
        ax.set_aspect('equal')

        # Initialize
        line = plt.plot([], [], 'k-', linewidth=2)[0]
        radius = [plt.plot([], [], 'r-', linewidth=0.5, marker='o', markersize=1)[0] for _ in range(2 * order + 1)]
        circles = [plt.plot([], [], 'r-', linewidth=0.5)[0] for _ in range(2 * order + 1)]

        def update_c(c, t):
            """
                Creates a new ndarray new_c for plot radius in each circle and plot each circle in the 
                function animate.
            """
            new_c = []
            for i, j in enumerate(range(-order, order + 1)):
                dtheta = -j * t
                ct, st = np.cos(dtheta), np.sin(dtheta)
                v = [ct * c[i][0] - st * c[i][1], st * c[i][0] + ct * c[i][1]]
                new_c.append(v)
            return np.array(new_c)

        def sort_velocity(order):
            """
                Creates a variable that iterates through the numbers between order+i and order-i.
            """
            idx = []
            for i in range(1,order+1):
                idx.extend([order+i, order-i]) 
            return idx    

        def animate(i):
            # animate lines
            """ 
                Displays the radius of each circle as well as the circle. This function also plots the approximation of the image.
            """
            line.set_data(x_DFT[:i], y_DFT[:i])
            # array of radius of each circles
            r = [np.linalg.norm(coef[j]) for j in range(len(coef))]
            # position is on the last circle
            pos = coef[order]
            c = update_c(coef, i / len(space) * tau)
            idx = sort_velocity(order)
            for j, rad, circle in zip(idx,radius,circles):
                new_pos = pos + c[j]
                # plot radius in each circles
                rad.set_data([pos[0], new_pos[0]], [pos[1], new_pos[1]])
                theta = np.linspace(0, tau, 50)
                # plot each circles
                x, y = r[j] * np.cos(theta) + pos[0], r[j] * np.sin(theta) + pos[1]
                circle.set_data(x, y)
                # increase pos for plot from the last circle displayed
                pos = new_pos

        # Animation
        ani = animation.FuncAnimation(fig, animate, frames=len(space), interval=5)
        return ani


import matplotlib.pyplot as plt # for plotting and creating figures
import numpy as np # for easy and fast number calculation
from math import tau

import draw_circle_fourier
from draw_circle_fourier import ImageReader
from draw_circle_fourier import Fourier
from draw_circle_fourier import DrawAnimation

#Part Kenjy 

image = ImageReader("velo.jpeg")
time_table, x_table, y_table = image.get_tour()
print(time_table, x_table, y_table)

#Part Chloe

order = 20

cf = Fourier(time_table, x_table, y_table,order)
fouriercoeff = cf.coef_list(time_table, x_table, y_table, order)

print(fouriercoeff)

#Part Paul+Pierre

space = np.linspace(0, tau, 300)
x_DFT = [cf.DFT(t, fouriercoeff, order)[0] for t in space]
y_DFT = [cf.DFT(t, fouriercoeff, order)[1] for t in space]

fig, ax = plt.subplots(figsize = (5, 5))
ax.plot(x_DFT, y_DFT, 'r--')
ax.plot(x_table, y_table, 'k-')
ax.set_aspect('equal', 'datalim')
xmin, xmax = plt.xlim()
ymin, ymax = plt.ylim()

b = DrawAnimation(x_DFT, y_DFT, fouriercoeff, order, space, [xmin, xmax, ymin, ymax])
anim = b.visualize(x_DFT, y_DFT, fouriercoeff, order, space, [xmin, xmax, ymin, ymax])

#Change based on what writer you have
#HTML(anim.to_html5_video())
#anim.save('pi.mp4',writer='ffmpeg')
anim.save('velo.gif', writer = 'pillow')
